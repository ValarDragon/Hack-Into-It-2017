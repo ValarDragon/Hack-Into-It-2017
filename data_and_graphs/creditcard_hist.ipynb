{
 "cells": [
  {
   "cell_type": "code",
   "execution_count": 1,
   "metadata": {
    "collapsed": true
   },
   "outputs": [],
   "source": [
    "import numpy as np\n",
    "from datascience import *\n",
    "\n",
    "# These lines set up graphing capabilities.\n",
    "import matplotlib\n",
    "%matplotlib inline\n",
    "import matplotlib.pyplot as plt\n",
    "plt.style.use('fivethirtyeight')\n",
    "import warnings\n",
    "warnings.simplefilter('ignore', FutureWarning)\n",
    "\n",
    "from ipywidgets import interact, interactive, fixed, interact_manual\n",
    "import ipywidgets as widgets"
   ]
  },
  {
   "cell_type": "code",
   "execution_count": 4,
   "metadata": {},
   "outputs": [
    {
     "data": {
      "text/html": [
       "<table border=\"1\" class=\"dataframe\">\n",
       "    <thead>\n",
       "        <tr>\n",
       "            <th>state</th> <th>value</th>\n",
       "        </tr>\n",
       "    </thead>\n",
       "    <tbody>\n",
       "        <tr>\n",
       "            <td>1    </td> <td>0.0569087 </td>\n",
       "        </tr>\n",
       "    </tbody>\n",
       "        <tr>\n",
       "            <td>2    </td> <td>-0.14243  </td>\n",
       "        </tr>\n",
       "    </tbody>\n",
       "        <tr>\n",
       "            <td>4    </td> <td>0.0538141 </td>\n",
       "        </tr>\n",
       "    </tbody>\n",
       "        <tr>\n",
       "            <td>5    </td> <td>-0.08365  </td>\n",
       "        </tr>\n",
       "    </tbody>\n",
       "        <tr>\n",
       "            <td>6    </td> <td>0.0671088 </td>\n",
       "        </tr>\n",
       "    </tbody>\n",
       "        <tr>\n",
       "            <td>8    </td> <td>-0.0857514</td>\n",
       "        </tr>\n",
       "    </tbody>\n",
       "        <tr>\n",
       "            <td>9    </td> <td>-0.14042  </td>\n",
       "        </tr>\n",
       "    </tbody>\n",
       "        <tr>\n",
       "            <td>10   </td> <td>0.116071  </td>\n",
       "        </tr>\n",
       "    </tbody>\n",
       "        <tr>\n",
       "            <td>11   </td> <td>0.0597139 </td>\n",
       "        </tr>\n",
       "    </tbody>\n",
       "        <tr>\n",
       "            <td>12   </td> <td>0.0505135 </td>\n",
       "        </tr>\n",
       "    </tbody>\n",
       "</table>\n",
       "<p>... (41 rows omitted)</p"
      ],
      "text/plain": [
       "state | value\n",
       "1     | 0.0569087\n",
       "2     | -0.14243\n",
       "4     | 0.0538141\n",
       "5     | -0.08365\n",
       "6     | 0.0671088\n",
       "8     | -0.0857514\n",
       "9     | -0.14042\n",
       "10    | 0.116071\n",
       "11    | 0.0597139\n",
       "12    | 0.0505135\n",
       "... (41 rows omitted)"
      ]
     },
     "execution_count": 4,
     "metadata": {},
     "output_type": "execute_result"
    }
   ],
   "source": [
    "table1 = Table.read_table(\"map_data_CRC.csv\")\n",
    "table1"
   ]
  },
  {
   "cell_type": "code",
   "execution_count": 17,
   "metadata": {},
   "outputs": [
    {
     "data": {
      "image/png": "[encoded data removed]",
      "text/plain": [
       "<matplotlib.figure.Figure at 0x7f8e92ed09e8>"
      ]
     },
     "metadata": {},
     "output_type": "display_data"
    }
   ],
   "source": [
    "table2 = Table.read_table(\"num_data_CRC.csv\")\n",
    "table2.where(\"group\", \"Seasonally Adjusted\").plot(\"month\", \"num\")"
   ]
  },
  {
   "cell_type": "code",
   "execution_count": null,
   "metadata": {
    "collapsed": true,
    "scrolled": true
   },
   "outputs": [],
   "source": [
    "table3 = Table.read_table(\"vol_data_CRC.csv\")\n",
    "table3.where(\"group\", \"Seasonally Adjusted\").where(\"month\", np.arange(84, 132)).plot(0, 1)"
   ]
  },
  {
   "cell_type": "code",
   "execution_count": 20,
   "metadata": {},
   "outputs": [
    {
     "data": {
      "text/html": [
       "<table border=\"1\" class=\"dataframe\">\n",
       "    <thead>\n",
       "        <tr>\n",
       "            <th>month</th> <th>yoy</th> <th>group</th>\n",
       "        </tr>\n",
       "    </thead>\n",
       "    <tbody>\n",
       "        <tr>\n",
       "            <td>72   </td> <td>0.0532397</td> <td>Number of Loans</td>\n",
       "        </tr>\n",
       "    </tbody>\n",
       "        <tr>\n",
       "            <td>73   </td> <td>0.176887 </td> <td>Number of Loans</td>\n",
       "        </tr>\n",
       "    </tbody>\n",
       "        <tr>\n",
       "            <td>74   </td> <td>0.0495053</td> <td>Number of Loans</td>\n",
       "        </tr>\n",
       "    </tbody>\n",
       "        <tr>\n",
       "            <td>75   </td> <td>0.0538333</td> <td>Number of Loans</td>\n",
       "        </tr>\n",
       "    </tbody>\n",
       "        <tr>\n",
       "            <td>76   </td> <td>0.0965932</td> <td>Number of Loans</td>\n",
       "        </tr>\n",
       "    </tbody>\n",
       "        <tr>\n",
       "            <td>77   </td> <td>0.0540308</td> <td>Number of Loans</td>\n",
       "        </tr>\n",
       "    </tbody>\n",
       "        <tr>\n",
       "            <td>78   </td> <td>0.113789 </td> <td>Number of Loans</td>\n",
       "        </tr>\n",
       "    </tbody>\n",
       "        <tr>\n",
       "            <td>79   </td> <td>0.0383785</td> <td>Number of Loans</td>\n",
       "        </tr>\n",
       "    </tbody>\n",
       "        <tr>\n",
       "            <td>80   </td> <td>0.094669 </td> <td>Number of Loans</td>\n",
       "        </tr>\n",
       "    </tbody>\n",
       "        <tr>\n",
       "            <td>81   </td> <td>0.0418354</td> <td>Number of Loans</td>\n",
       "        </tr>\n",
       "    </tbody>\n",
       "</table>\n",
       "<p>... (254 rows omitted)</p"
      ],
      "text/plain": [
       "month | yoy       | group\n",
       "72    | 0.0532397 | Number of Loans\n",
       "73    | 0.176887  | Number of Loans\n",
       "74    | 0.0495053 | Number of Loans\n",
       "75    | 0.0538333 | Number of Loans\n",
       "76    | 0.0965932 | Number of Loans\n",
       "77    | 0.0540308 | Number of Loans\n",
       "78    | 0.113789  | Number of Loans\n",
       "79    | 0.0383785 | Number of Loans\n",
       "80    | 0.094669  | Number of Loans\n",
       "81    | 0.0418354 | Number of Loans\n",
       "... (254 rows omitted)"
      ]
     },
     "execution_count": 20,
     "metadata": {},
     "output_type": "execute_result"
    }
   ],
   "source": [
    "table4 = Table.read_table(\"yoy_data_all_CRC.csv\")\n",
    "table4"
   ]
  },
  {
   "cell_type": "code",
   "execution_count": null,
   "metadata": {
    "collapsed": true
   },
   "outputs": [],
   "source": []
  }
 ],
 "metadata": {
  "kernelspec": {
   "display_name": "Python 3",
   "language": "python",
   "name": "python3"
  },
  "language_info": {
   "codemirror_mode": {
    "name": "ipython",
    "version": 3
   },
   "file_extension": ".py",
   "mimetype": "text/x-python",
   "name": "python",
   "nbconvert_exporter": "python",
   "pygments_lexer": "ipython3",
   "version": "3.6.1"
  }
 },
 "nbformat": 4,
 "nbformat_minor": 2
}
